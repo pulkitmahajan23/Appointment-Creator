{
 "cells": [
  {
   "cell_type": "code",
   "execution_count": 1,
   "metadata": {},
   "outputs": [],
   "source": [
    "import os, shutil"
   ]
  },
  {
   "cell_type": "code",
   "execution_count": 2,
   "metadata": {},
   "outputs": [],
   "source": [
    "org1_ds_dir = '/Users/Ruturaj Nanoti/Downloads/face-mask-detector/dataset/with_mask'\n",
    "org2_ds_dir = '/Users/Ruturaj Nanoti/Downloads/face-mask-detector/dataset/without_mask'"
   ]
  },
  {
   "cell_type": "code",
   "execution_count": 3,
   "metadata": {},
   "outputs": [],
   "source": [
    "base_dir = '/Users/Ruturaj Nanoti/Downloads/face_maskd'\n",
    "os.mkdir(base_dir)"
   ]
  },
  {
   "cell_type": "code",
   "execution_count": 4,
   "metadata": {},
   "outputs": [],
   "source": [
    "train_dir = os.path.join(base_dir, 'train')\n",
    "os.mkdir(train_dir)\n",
    "v_dir = os.path.join(base_dir, 'valid')\n",
    "os.mkdir(v_dir)\n",
    "test_dir = os.path.join(base_dir, 'test')\n",
    "os.mkdir(test_dir)"
   ]
  },
  {
   "cell_type": "code",
   "execution_count": 5,
   "metadata": {},
   "outputs": [],
   "source": [
    "train_m_dir = os.path.join(train_dir, 'mask')\n",
    "os.mkdir(train_m_dir)\n",
    "\n",
    "train_wm_dir = os.path.join(train_dir, 'w-mask')\n",
    "os.mkdir(train_wm_dir)\n",
    "\n",
    "v_m_dir = os.path.join(v_dir, 'mask')\n",
    "os.mkdir(v_m_dir)\n",
    "\n",
    "v_wm_dir = os.path.join(v_dir, 'w-mask')\n",
    "os.mkdir(v_wm_dir)\n",
    "\n",
    "test_m_dir = os.path.join(test_dir, 'mask')\n",
    "os.mkdir(test_m_dir)\n",
    "\n",
    "test_wm_dir = os.path.join(test_dir, 'w-mask')\n",
    "os.mkdir(test_wm_dir)"
   ]
  },
  {
   "cell_type": "code",
   "execution_count": 6,
   "metadata": {},
   "outputs": [],
   "source": [
    "fnames = ['with-mask({}).jpg'.format(i) for i in range(1,414)]\n",
    "for fname in fnames:\n",
    "    src = os.path.join(org1_ds_dir, fname)\n",
    "    dst = os.path.join(train_m_dir, fname)\n",
    "    shutil.copyfile(src, dst)\n",
    "\n",
    "fnames = ['with-mask({}).jpg'.format(i) for i in range(414, 552)]\n",
    "for fname in fnames:\n",
    "    src = os.path.join(org1_ds_dir, fname)\n",
    "    dst = os.path.join(v_m_dir, fname)\n",
    "    shutil.copyfile(src, dst)\n",
    "\n",
    "fnames = ['with-mask({}).jpg'.format(i) for i in range(552, 690)]\n",
    "for fname in fnames:\n",
    "    src = os.path.join(org1_ds_dir, fname)\n",
    "    dst = os.path.join(test_m_dir, fname)\n",
    "    shutil.copyfile(src, dst)\n",
    "\n",
    "fnames = ['w-m({}).jpg'.format(i) for i in range(410)]\n",
    "for fname in fnames:\n",
    "    src = os.path.join(org2_ds_dir, fname)\n",
    "    dst = os.path.join(train_wm_dir, fname)\n",
    "    shutil.copyfile(src, dst)\n",
    "\n",
    "fnames = ['w-m({}).jpg'.format(i) for i in range(410, 548)]\n",
    "for fname in fnames:\n",
    "    src = os.path.join(org2_ds_dir, fname)\n",
    "    dst = os.path.join(v_wm_dir, fname)\n",
    "    shutil.copyfile(src, dst)\n",
    "\n",
    "fnames = ['w-m({}).jpg'.format(i) for i in range(548, 686)]\n",
    "for fname in fnames:\n",
    "    src = os.path.join(org2_ds_dir, fname)\n",
    "    dst = os.path.join(test_wm_dir, fname)\n",
    "    shutil.copyfile(src, dst)"
   ]
  },
  {
   "cell_type": "code",
   "execution_count": 7,
   "metadata": {},
   "outputs": [
    {
     "data": {
      "text/plain": [
       "413"
      ]
     },
     "execution_count": 7,
     "metadata": {},
     "output_type": "execute_result"
    }
   ],
   "source": [
    "len(os.listdir(train_m_dir))"
   ]
  },
  {
   "cell_type": "markdown",
   "metadata": {},
   "source": [
    "# Building the Covnet"
   ]
  },
  {
   "cell_type": "code",
   "execution_count": 8,
   "metadata": {},
   "outputs": [
    {
     "name": "stderr",
     "output_type": "stream",
     "text": [
      "Using TensorFlow backend.\n"
     ]
    },
    {
     "name": "stdout",
     "output_type": "stream",
     "text": [
      "WARNING:tensorflow:From C:\\Users\\Ruturaj Nanoti\\Anaconda3\\lib\\site-packages\\tensorflow\\python\\framework\\op_def_library.py:263: colocate_with (from tensorflow.python.framework.ops) is deprecated and will be removed in a future version.\n",
      "Instructions for updating:\n",
      "Colocations handled automatically by placer.\n",
      "WARNING:tensorflow:From C:\\Users\\Ruturaj Nanoti\\Anaconda3\\lib\\site-packages\\keras\\backend\\tensorflow_backend.py:3447: calling dropout (from tensorflow.python.ops.nn_ops) with keep_prob is deprecated and will be removed in a future version.\n",
      "Instructions for updating:\n",
      "Please use `rate` instead of `keep_prob`. Rate should be set to `rate = 1 - keep_prob`.\n"
     ]
    }
   ],
   "source": [
    "import keras\n",
    "from keras import models\n",
    "from keras import layers\n",
    "\n",
    "model = models.Sequential()\n",
    "model.add(layers.Conv2D(32, (3, 3), activation='relu', input_shape=(150, 150, 3)))\n",
    "model.add(layers.MaxPooling2D(2, 2))\n",
    "model.add(layers.Conv2D(64, (3, 3), activation='relu'))\n",
    "model.add(layers.MaxPooling2D(2, 2))\n",
    "model.add(layers.Conv2D(128, (3, 3)))\n",
    "model.add(layers.MaxPooling2D(2, 2))\n",
    "#model.add(layers.Conv2D(128, (3, 3)))\n",
    "#model.add(layers.MaxPooling2D(2, 2))\n",
    "model.add(layers.Flatten())\n",
    "model.add(layers.Dropout(0.5))\n",
    "model.add(layers.Dense(512, activation='relu'))\n",
    "model.add(layers.Dense(1, activation='sigmoid'))\n",
    "\n",
    "from keras import optimizers\n",
    "\n",
    "model.compile(optimizer=optimizers.RMSprop(lr=1e-4), loss='binary_crossentropy', metrics=['acc'])"
   ]
  },
  {
   "cell_type": "code",
   "execution_count": 9,
   "metadata": {},
   "outputs": [
    {
     "name": "stdout",
     "output_type": "stream",
     "text": [
      "Found 823 images belonging to 2 classes.\n",
      "Found 276 images belonging to 2 classes.\n"
     ]
    }
   ],
   "source": [
    "from keras.preprocessing.image import ImageDataGenerator\n",
    "\n",
    "train_datagen = ImageDataGenerator(rescale=1./255)\n",
    "test_datagen = ImageDataGenerator(rescale=1./255)\n",
    "\n",
    "train_generator = train_datagen.flow_from_directory(\n",
    "                                                    train_dir,\n",
    "                                                    target_size=(150, 150),\n",
    "                                                    batch_size=2,\n",
    "                                                    class_mode='binary')\n",
    "\n",
    "validation_generator = test_datagen.flow_from_directory(\n",
    "                                                    v_dir,\n",
    "                                                    target_size=(150, 150),\n",
    "                                                    batch_size=2,\n",
    "                                                    class_mode='binary')"
   ]
  },
  {
   "cell_type": "code",
   "execution_count": 10,
   "metadata": {},
   "outputs": [
    {
     "name": "stdout",
     "output_type": "stream",
     "text": [
      "Found 823 images belonging to 2 classes.\n",
      "Found 276 images belonging to 2 classes.\n",
      "WARNING:tensorflow:From C:\\Users\\Ruturaj Nanoti\\Anaconda3\\lib\\site-packages\\tensorflow\\python\\ops\\math_ops.py:3066: to_int32 (from tensorflow.python.ops.math_ops) is deprecated and will be removed in a future version.\n",
      "Instructions for updating:\n",
      "Use tf.cast instead.\n",
      "Epoch 1/10\n",
      "10/10 [==============================] - 72s 7s/step - loss: 0.8371 - acc: 0.5375 - val_loss: 0.7168 - val_acc: 0.4833\n",
      "Epoch 2/10\n",
      "10/10 [==============================] - 4s 366ms/step - loss: 0.6897 - acc: 0.5125 - val_loss: 0.5887 - val_acc: 0.7119\n",
      "Epoch 3/10\n",
      "10/10 [==============================] - 7s 719ms/step - loss: 0.6311 - acc: 0.6125 - val_loss: 0.5464 - val_acc: 0.7034\n",
      "Epoch 4/10\n",
      "10/10 [==============================] - 11s 1s/step - loss: 0.4777 - acc: 0.7250 - val_loss: 0.4123 - val_acc: 0.8263\n",
      "Epoch 5/10\n",
      "10/10 [==============================] - 8s 835ms/step - loss: 0.4445 - acc: 0.8000 - val_loss: 0.3631 - val_acc: 0.8729\n",
      "Epoch 6/10\n",
      "10/10 [==============================] - 6s 624ms/step - loss: 0.5627 - acc: 0.7000 - val_loss: 0.3135 - val_acc: 0.8983\n",
      "Epoch 7/10\n",
      "10/10 [==============================] - 8s 810ms/step - loss: 0.4067 - acc: 0.8000 - val_loss: 0.2683 - val_acc: 0.9110\n",
      "Epoch 8/10\n",
      "10/10 [==============================] - 8s 801ms/step - loss: 0.5362 - acc: 0.7750 - val_loss: 0.2817 - val_acc: 0.9042\n",
      "Epoch 9/10\n",
      "10/10 [==============================] - 11s 1s/step - loss: 0.4130 - acc: 0.8375 - val_loss: 0.2636 - val_acc: 0.8898\n",
      "Epoch 10/10\n",
      "10/10 [==============================] - 9s 917ms/step - loss: 0.3374 - acc: 0.8375 - val_loss: 0.2274 - val_acc: 0.9110\n"
     ]
    }
   ],
   "source": [
    "from keras.preprocessing.image import ImageDataGenerator\n",
    "\n",
    "datagen = ImageDataGenerator(\n",
    "                            rotation_range=40,\n",
    "                            width_shift_range=0.2,\n",
    "                            height_shift_range=0.2,\n",
    "                            shear_range=0.2,\n",
    "                            zoom_range=0.2,\n",
    "                            horizontal_flip=True,\n",
    "                            fill_mode='nearest')\n",
    "\n",
    "train_datagen = ImageDataGenerator(\n",
    "                            rescale=1./255,\n",
    "                            rotation_range=40,\n",
    "                            width_shift_range=0.2,\n",
    "                            height_shift_range=0.2,\n",
    "                            shear_range=0.2,\n",
    "                            zoom_range=0.2,\n",
    "                            horizontal_flip=True)\n",
    "\n",
    "train_generator = train_datagen.flow_from_directory(\n",
    "                                                    train_dir,\n",
    "                                                    target_size=(150, 150),\n",
    "                                                    batch_size=8,\n",
    "                                                    class_mode='binary')\n",
    "\n",
    "validation_generator = test_datagen.flow_from_directory(\n",
    "                                                    v_dir,\n",
    "                                                    target_size=(150, 150),\n",
    "                                                    batch_size=8,\n",
    "                                                    class_mode='binary')\n",
    "\n",
    "history = model.fit_generator(\n",
    "                            train_generator,\n",
    "                            steps_per_epoch=10,\n",
    "                            epochs=10,\n",
    "                            validation_data=validation_generator,\n",
    "                            validation_steps=30)"
   ]
  },
  {
   "cell_type": "code",
   "execution_count": 12,
   "metadata": {},
   "outputs": [
    {
     "data": {
      "image/png": "[encoded data removed]",
      "text/plain": [
       "<Figure size 432x288 with 1 Axes>"
      ]
     },
     "metadata": {
      "needs_background": "light"
     },
     "output_type": "display_data"
    },
    {
     "data": {
      "image/png": "[encoded data removed]",
      "text/plain": [
       "<Figure size 432x288 with 1 Axes>"
      ]
     },
     "metadata": {
      "needs_background": "light"
     },
     "output_type": "display_data"
    }
   ],
   "source": [
    "model.save('COVID_md.h5')\n",
    "\n",
    "import matplotlib.pyplot as plt\n",
    "\n",
    "acc = history.history['acc']\n",
    "val_acc = history.history['val_acc']\n",
    "loss = history.history['loss']\n",
    "val_loss = history.history['val_loss']\n",
    "\n",
    "epochs = range(1, len(acc)+1)\n",
    "\n",
    "plt.plot(epochs, acc, 'bo', label='Training Acc')\n",
    "plt.plot(epochs, val_acc, 'b', label='Validation Acc')\n",
    "plt.title('Training and Validation Accuracy')\n",
    "plt.legend()\n",
    "\n",
    "plt.figure()\n",
    "\n",
    "plt.plot(epochs, loss, 'bo', label='Training Loss')\n",
    "plt.plot(epochs, val_loss, 'b', label='Validation Loss')\n",
    "plt.title('Training and Validation Loss')\n",
    "plt.legend()\n",
    "\n",
    "plt.show()"
   ]
  },
  {
   "cell_type": "code",
   "execution_count": 15,
   "metadata": {},
   "outputs": [
    {
     "name": "stdout",
     "output_type": "stream",
     "text": [
      "Found 276 images belonging to 2 classes.\n",
      "test_acc: 0.95\n"
     ]
    }
   ],
   "source": [
    "test_generator = train_datagen.flow_from_directory(\n",
    "                                                    test_dir,\n",
    "                                                    target_size=(150, 150),\n",
    "                                                    batch_size=2,\n",
    "                                                    class_mode='binary')\n",
    "\n",
    "test_loss, test_acc = model.evaluate_generator(test_generator, steps=10)\n",
    "print('test_acc:', test_acc)"
   ]
  },
  {
   "cell_type": "code",
   "execution_count": null,
   "metadata": {},
   "outputs": [],
   "source": []
  }
 ],
 "metadata": {
  "kernelspec": {
   "display_name": "Python 3",
   "language": "python",
   "name": "python3"
  },
  "language_info": {
   "codemirror_mode": {
    "name": "ipython",
    "version": 3
   },
   "file_extension": ".py",
   "mimetype": "text/x-python",
   "name": "python",
   "nbconvert_exporter": "python",
   "pygments_lexer": "ipython3",
   "version": "3.7.1"
  }
 },
 "nbformat": 4,
 "nbformat_minor": 2
}
